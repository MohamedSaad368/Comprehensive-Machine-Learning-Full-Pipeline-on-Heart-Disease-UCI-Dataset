{
 "cells": [
  {
   "cell_type": "code",
   "execution_count": 1,
   "id": "6da7619e-b224-470a-a509-ca1293f6e3b2",
   "metadata": {},
   "outputs": [],
   "source": [
    "#importing libraries\n",
    "import pandas as pd\n",
    "import numpy as np\n",
    "from sklearn.model_selection import train_test_split\n",
    "from sklearn.linear_model import LogisticRegression\n",
    "from sklearn.tree import DecisionTreeClassifier\n",
    "from sklearn.ensemble import RandomForestClassifier\n",
    "from sklearn.svm import SVC\n",
    "from sklearn.model_selection import GridSearchCV, RandomizedSearchCV\n",
    "from scipy.stats import randint, uniform\n",
    "from sklearn.metrics import accuracy_score, precision_score, recall_score, f1_score,roc_auc_score, roc_curve, classification_report,confusion_matrix\n",
    "import pickle"
   ]
  },
  {
   "cell_type": "code",
   "execution_count": 2,
   "id": "3f1f459a-ea99-4498-a896-7b6df6fa75ec",
   "metadata": {},
   "outputs": [],
   "source": [
    "#loading PCA dataset from saved data folder\n",
    "df = pd.read_pickle('saved_data/df_ready.pkl')"
   ]
  },
  {
   "cell_type": "code",
   "execution_count": 3,
   "id": "101d6706-7d67-4a4d-8128-b30f4561aeae",
   "metadata": {},
   "outputs": [],
   "source": [
    "#splitting the data\n",
    "x = df.drop(columns='num')\n",
    "y = df['num']\n",
    "x_train, x_test, y_train, y_test = train_test_split(x, y, test_size=0.2, random_state=24)"
   ]
  },
  {
   "cell_type": "code",
   "execution_count": 4,
   "id": "f8d5c0b8-541d-4798-ae8e-5dd9e8c6b40f",
   "metadata": {},
   "outputs": [],
   "source": [
    "#model and parameter grids\n",
    "models = {\n",
    "    'Logistic_Regression': LogisticRegression(),\n",
    "    'Decision_Tree': DecisionTreeClassifier(),\n",
    "    'Random_Forest': RandomForestClassifier(),\n",
    "    'SVM': SVC(probability=True)\n",
    "}\n",
    "param_grids = {\n",
    "    'Logistic_Regression': {\n",
    "        'C': [0.01, 0.1, 1, 10],\n",
    "        'penalty': ['l2'],\n",
    "        'solver': ['lbfgs']\n",
    "    },\n",
    "    'Decision_Tree': {\n",
    "        'max_depth': [5, 10, 15, 20],\n",
    "        'min_samples_split': [2, 5, 10],\n",
    "        'min_samples_leaf': [1, 2, 4]\n",
    "    },\n",
    "    'Random_Forest': {\n",
    "        'n_estimators': [50, 100, 150],\n",
    "        'max_depth': [10, 20, 30],\n",
    "        'min_samples_split': [2, 5],\n",
    "        'min_samples_leaf': [1, 2],\n",
    "        'bootstrap': [True, False]\n",
    "    },\n",
    "    'SVM': {\n",
    "        'C': [0.1, 1, 10],\n",
    "        'kernel': ['rbf', 'linear'],\n",
    "        'gamma': ['scale', 'auto']\n",
    "    }\n",
    "}\n",
    "\n",
    "param_dists = {\n",
    "    'Logistic_Regression': {\n",
    "        'C': np.logspace(-3, 2, 20),\n",
    "        'penalty': ['l2'],\n",
    "        'solver': ['lbfgs']\n",
    "    },\n",
    "    'Decision_Tree': {\n",
    "        'max_depth': randint(3, 30),\n",
    "        'min_samples_split': randint(2, 10),\n",
    "        'min_samples_leaf': randint(1, 5)\n",
    "    },\n",
    "    'Random_Forest': {\n",
    "        'n_estimators': randint(50, 200),\n",
    "        'max_depth': randint(10, 40),\n",
    "        'min_samples_split': randint(2, 10),\n",
    "        'min_samples_leaf': randint(1, 4),\n",
    "        'bootstrap': [True, False]\n",
    "    },\n",
    "    'SVM': {\n",
    "        'C': np.logspace(-2, 2, 10),\n",
    "        'kernel': ['rbf', 'linear'],\n",
    "        'gamma': ['scale', 'auto']\n",
    "    }\n",
    "}"
   ]
  },
  {
   "cell_type": "code",
   "execution_count": 5,
   "id": "7b1d7d32-b6e7-4702-801b-3f1294c81369",
   "metadata": {},
   "outputs": [
    {
     "name": "stdout",
     "output_type": "stream",
     "text": [
      " Best Logistic Regression\n",
      " Tuning: GridSearch\n",
      " Accuracy: 0.8033\n",
      " Best Decision Tree\n",
      " Tuning: GridSearch\n",
      " Accuracy: 0.7705\n",
      " Best Random Forest\n",
      " Tuning: RandomSearch\n",
      " Accuracy: 0.8361\n",
      " Best SVM\n",
      " Tuning: RandomSearch\n",
      " Accuracy: 0.8197\n"
     ]
    }
   ],
   "source": [
    "#parameter tuning\n",
    "overall_best_model = None\n",
    "overall_best_score = 0\n",
    "best_models = {}\n",
    "\n",
    "for name, model in models.items():\n",
    "    grid_search = GridSearchCV(model, param_grids[name], scoring={'AUC': 'roc_auc', 'Acc': 'accuracy'}, refit='Acc')\n",
    "    grid_search.fit(x_train, y_train)\n",
    "    grid_pred = grid_search.predict(x_test)\n",
    "    grid_acc = accuracy_score(y_test, grid_pred)\n",
    "    rand_search = RandomizedSearchCV(model, param_dists[name], scoring={'AUC': 'roc_auc', 'Acc': 'accuracy'}, refit='Acc', random_state=24)\n",
    "    rand_search.fit(x_train, y_train)\n",
    "    rand_pred = rand_search.predict(x_test)\n",
    "    rand_acc = accuracy_score(y_test, rand_pred)\n",
    "    if grid_acc >= rand_acc:\n",
    "        best_model = grid_search.best_estimator_\n",
    "        best_score = grid_acc\n",
    "        best_search_type = \"GridSearch\"\n",
    "        best_params = grid_search.best_params_\n",
    "    else:\n",
    "        best_model = rand_search.best_estimator_\n",
    "        best_score = rand_acc\n",
    "        best_search_type = \"RandomSearch\"\n",
    "        best_params = rand_search.best_params_\n",
    "    best_models[name.replace('_', ' ')] = best_model\n",
    "    print(f\" Best {name.replace('_', ' ')}\\n Tuning: {best_search_type}\\n Accuracy: {best_score:.4f}\")\n",
    "    if best_score > overall_best_score:\n",
    "        overall_best_model = best_model\n",
    "        overall_best_score = best_score"
   ]
  },
  {
   "cell_type": "code",
   "execution_count": 6,
   "id": "e307bf32-acc3-4cad-8b04-186c3db56cfd",
   "metadata": {},
   "outputs": [],
   "source": [
    "#saving evaluation as a file to compare with optimized models later\n",
    "text = \"\"\n",
    "for name, model in best_models.items():\n",
    "    y_pred = model.predict(x_test)\n",
    "    y_proba = model.predict_proba(x_test)[:, 1]\n",
    "    auc = roc_auc_score(y_test, y_proba)\n",
    "    metrics = classification_report(y_test, y_pred, target_names=[\"class 0\", \"class 1\"])\n",
    "    text += f\"{name}:\\n\"\n",
    "    text += metrics\n",
    "    text += f\"AUC Score: {auc:.4f}\\n\\n\"\n",
    "with open(\"results/after_tuning_evaluation.txt\", \"w\") as f:\n",
    "    f.write(text)"
   ]
  },
  {
   "cell_type": "code",
   "execution_count": 12,
   "id": "d50230b9-4b14-4500-ae9f-20baf404309d",
   "metadata": {},
   "outputs": [],
   "source": [
    "#pickleing best model (which is Random Forest)\n",
    "with open(f\"saved_models/final_model.pkl\", 'wb') as f:\n",
    "    pickle.dump(overall_best_model, f)"
   ]
  }
 ],
 "metadata": {
  "kernelspec": {
   "display_name": "Python 3 (ipykernel)",
   "language": "python",
   "name": "python3"
  },
  "language_info": {
   "codemirror_mode": {
    "name": "ipython",
    "version": 3
   },
   "file_extension": ".py",
   "mimetype": "text/x-python",
   "name": "python",
   "nbconvert_exporter": "python",
   "pygments_lexer": "ipython3",
   "version": "3.13.5"
  }
 },
 "nbformat": 4,
 "nbformat_minor": 5
}
